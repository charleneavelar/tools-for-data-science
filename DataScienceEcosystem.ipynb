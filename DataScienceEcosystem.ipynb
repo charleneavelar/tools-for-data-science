{
 "cells": [
  {
   "cell_type": "markdown",
   "id": "df16805f",
   "metadata": {},
   "source": [
    "<h1>Data Science Tools and Ecosystem<h1>"
   ]
  },
  {
   "cell_type": "markdown",
   "id": "696b69d9",
   "metadata": {},
   "source": [
    "### Author  \n",
    "Charlene Marcondes Avelar"
   ]
  },
  {
   "cell_type": "markdown",
   "id": "c6bced01",
   "metadata": {},
   "source": [
    "In this notebook, Data Science Tools and Ecosystem are summarized."
   ]
  },
  {
   "cell_type": "markdown",
   "id": "5ba15772",
   "metadata": {},
   "source": [
    "**Objectives:**\n",
    "    \n",
    "- Cite popular open source, commercial, and cloud-based tools used by data scientists.\n",
    "- Describe the fundamentals of Jupyter Notebooks and the JupyterLab platform and why they are popular for data science projects.\n",
    "- Explain how Watson Studio can streamline data projects and make them easier to manage."
   ]
  },
  {
   "cell_type": "markdown",
   "id": "b24b1006",
   "metadata": {},
   "source": [
    "Some of the popular languages that Data Scientists use are:\n",
    "\n",
    "    1. Python\n",
    "    2. R\n",
    "    3. SQL"
   ]
  },
  {
   "cell_type": "markdown",
   "id": "22d97bcf",
   "metadata": {},
   "source": [
    "Some of the commonly used libraries used by Data Scientists include:\n",
    "    \n",
    "    1.NumPy\n",
    "    2.Pandas\n",
    "    3.Scikit-learn "
   ]
  },
  {
   "cell_type": "markdown",
   "id": "8eb509e6",
   "metadata": {},
   "source": [
    "| Data Science Tools |  |  |\n",
    "|--- |--- |--- |\n",
    "|       MySQL |  |  |\n",
    "|    PostgreSQL |  |  |\n",
    "|   Apache AirFlow |  | |"
   ]
  },
  {
   "cell_type": "markdown",
   "id": "5b98833d",
   "metadata": {},
   "source": [
    "<h3>Below are a few examples of evaluating arithmetic expressions in Python<h3>"
   ]
  },
  {
   "cell_type": "code",
   "execution_count": 12,
   "id": "b4dcd9c3",
   "metadata": {},
   "outputs": [
    {
     "data": {
      "text/plain": [
       "17"
      ]
     },
     "execution_count": 12,
     "metadata": {},
     "output_type": "execute_result"
    }
   ],
   "source": [
    "#This a simple arithmetic expression to mutiply then add integers\n",
    "\n",
    "(3*4) + 5 "
   ]
  },
  {
   "cell_type": "code",
   "execution_count": 14,
   "id": "6fd81c8f",
   "metadata": {},
   "outputs": [
    {
     "name": "stdout",
     "output_type": "stream",
     "text": [
      "200 minutos equivalem a 3.33 horas\n"
     ]
    }
   ],
   "source": [
    "# This will convert 200 minutes to hours by diving by 60\n",
    "\n",
    "minutos = 200\n",
    "horas = minutos / 60\n",
    "print(\"200 minutos equivalem a\", round(horas, 2), \"horas\")"
   ]
  },
  {
   "cell_type": "code",
   "execution_count": null,
   "id": "7f6bb495",
   "metadata": {},
   "outputs": [],
   "source": []
  }
 ],
 "metadata": {
  "kernelspec": {
   "display_name": "Python 3 (ipykernel)",
   "language": "python",
   "name": "python3"
  },
  "language_info": {
   "codemirror_mode": {
    "name": "ipython",
    "version": 3
   },
   "file_extension": ".py",
   "mimetype": "text/x-python",
   "name": "python",
   "nbconvert_exporter": "python",
   "pygments_lexer": "ipython3",
   "version": "3.9.13"
  }
 },
 "nbformat": 4,
 "nbformat_minor": 5
}
